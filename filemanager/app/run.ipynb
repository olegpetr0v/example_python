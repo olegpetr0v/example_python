{
 "cells": [
  {
   "cell_type": "code",
   "execution_count": 8,
   "metadata": {},
   "outputs": [],
   "source": [
    "PROCESSES = 1 #количество параллельных процессов\n",
    "PATH = 'D:\\\\allreports' # путь к корневой директории с исходными отчётами\n",
    "OUTPATH = 'D:\\\\out' # путь к корневой директории с итоговыми отчётами\n",
    "TEMPDIRPATH = 'D:\\\\tmp' # путь к temp директории\n",
    "MONTHLIST = [ # перечень этапов(месяцев) для обработки\n",
    "    201802,\n",
    "    #201803,\n",
    "    #201804\n",
    "]\n",
    "COPY = True # включение опции копирования и нормализции имён отчётов в новую директорию,  опция\n",
    "REPACK = True # включение опции упаковки и нормализации отчётов при копировании, работает только при COPY == True\n",
    "RECODE = True # включение опции перекодирования отчётов при копировании, работает только при REPACK == True\n",
    "REPORTS = [ # перечень отчётов для обработки, расскоментировать нужные отчёты\n",
    "     '01_Location',\n",
    "     '01_CLocation',\n",
    "     '01_CLocation_types',\n",
    "     '01_TLocation',\n",
    "     #'02_Density',\n",
    "     #'02_CDensity',\n",
    "     #'02_CDensity_types',\n",
    "     #'02_TDensity',\n",
    "     #'03_Matrix',\n",
    "     #'03_CMatrix',\n",
    "     #'03_TMatrix',\n",
    "     #'04_Matrix_Home_Work',\n",
    "     #'04_CMatrix_Home_Work',\n",
    "     #'05_TMatrix_Home_Work',\n",
    "     #'05_Corr_Metro',\n",
    "     #'09_Times',\n",
    "     #'09_Times_Holiday',\n",
    "     #'09_CTimes',\n",
    "     #'09_CTimes_Holiday',\n",
    "     #'11_CMatrix_Metro',\n",
    "     #'11_CMatrix_Metro_Holiday'\n",
    "]\n",
    "EXTDICT = { # выбор расширения итогового отчёта: 'csv' или 'gz'\n",
    "     '01_Location':'csv',\n",
    "     '01_CLocation':'csv',\n",
    "     '01_CLocation_types':'csv',\n",
    "     '01_TLocation':'csv',\n",
    "     '02_Density':'csv',\n",
    "     '02_CDensity':'csv',\n",
    "     '02_CDensity_types':'csv',\n",
    "     '02_TDensity':'csv',\n",
    "     '03_Matrix':'csv',\n",
    "     '03_CMatrix':'csv',\n",
    "     '03_TMatrix':'csv',\n",
    "     '04_Matrix_Home_Work':'csv',\n",
    "     '04_CMatrix_Home_Work':'csv',\n",
    "     '04_TMatrix_Home_Work':'csv',\n",
    "     '05_Corr_Metro':'csv',\n",
    "     '09_Times':'csv',\n",
    "     '09_Times_Holiday':'csv',\n",
    "     '09_CTimes':'csv',\n",
    "     '09_CTimes_Holiday':'csv',\n",
    "     '11_CMatrix_Metro':'csv',\n",
    "     '11_CMatrix_Metro_Holiday':'csv'\n",
    "}\n",
    "REPLACEDICTPATH = {\n",
    "    'azones':'.\\\\azones.csv', # путь к словарю перекодировки административных районов\n",
    "    'czones':'.\\\\czones.csv', # путь к словарю перекодировки ячеек 500х500 районов\n",
    "    'tzones':'.\\\\tzones.csv', # путь к словарю перекодировки транспортных районов\n",
    "}"
   ]
  },
  {
   "cell_type": "code",
   "execution_count": 10,
   "metadata": {},
   "outputs": [
    {
     "name": "stdout",
     "output_type": "stream",
     "text": [
      "Кодирование отчётов:\n",
      "Операция завершена\n"
     ]
    }
   ],
   "source": [
    "from copy_reports import *\n",
    "from repack_reports import *\n",
    "from recode_reports import *\n",
    "\n",
    "if COPY == True and REPACK == True and RECODE == True:\n",
    "    print('Кодирование отчётов:')\n",
    "    recodeReports(PATH, OUTPATH, TEMPDIRPATH, MONTHLIST, REPORTS, EXTDICT, PROCESSES, REPLACEDICTPATH)\n",
    "elif COPY == True and REPACK == True and RECODE == False:\n",
    "    print('Переупаковка отчётов:')\n",
    "    repackReports(PATH, OUTPATH, TEMPDIRPATH, MONTHLIST, REPORTS, EXTDICT, PROCESSES)\n",
    "elif COPY == True and REPACK == False and RECODE == False:\n",
    "    print('Копирование отчётов:')\n",
    "    copyReports(PATH, OUTPATH, TEMPDIRPATH, MONTHLIST, REPORTS, EXTDICT, PROCESSES)\n",
    "else:\n",
    "    print('Неправильно заданы параметры!')\n",
    "print('Операция завершена')"
   ]
  },
  {
   "cell_type": "code",
   "execution_count": null,
   "metadata": {},
   "outputs": [],
   "source": []
  }
 ],
 "metadata": {
  "kernelspec": {
   "display_name": "Python 3",
   "language": "python",
   "name": "python3"
  },
  "language_info": {
   "codemirror_mode": {
    "name": "ipython",
    "version": 3
   },
   "file_extension": ".py",
   "mimetype": "text/x-python",
   "name": "python",
   "nbconvert_exporter": "python",
   "pygments_lexer": "ipython3",
   "version": "3.7.0"
  }
 },
 "nbformat": 4,
 "nbformat_minor": 2
}
